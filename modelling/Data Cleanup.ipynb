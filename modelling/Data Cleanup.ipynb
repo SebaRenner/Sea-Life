{
 "cells": [
  {
   "cell_type": "markdown",
   "id": "entertaining-wisconsin",
   "metadata": {},
   "source": [
    "### Data Cleanup for Modelling\n",
    "Data seems natural and has no anomalies (see EDA results)  \n",
    "Only the gender feature will be needed to change to a numerical representation of the categories"
   ]
  },
  {
   "cell_type": "code",
   "execution_count": 1,
   "id": "super-democracy",
   "metadata": {},
   "outputs": [],
   "source": [
    "import pandas as pd"
   ]
  },
  {
   "cell_type": "code",
   "execution_count": 2,
   "id": "black-title",
   "metadata": {},
   "outputs": [],
   "source": [
    "train = pd.read_csv('../data/schalentiere_training.csv')\n",
    "test = pd.read_csv('../data/schalentiere_test.csv')"
   ]
  },
  {
   "cell_type": "code",
   "execution_count": 7,
   "id": "interested-viewer",
   "metadata": {},
   "outputs": [],
   "source": [
    "# Gender Mappings:\n",
    "# M -> 0\n",
    "# W -> 1\n",
    "# K -> 2\n",
    "\n",
    "train['geschlecht'] = train['geschlecht'].replace(['M'], 0)\n",
    "train['geschlecht'] = train['geschlecht'].replace(['W'], 1)\n",
    "train['geschlecht'] = train['geschlecht'].replace(['K'], 2)\n",
    "\n",
    "test['geschlecht'] = test['geschlecht'].replace(['M'], 0)\n",
    "test['geschlecht'] = test['geschlecht'].replace(['W'], 1)\n",
    "test['geschlecht'] = test['geschlecht'].replace(['K'], 2)"
   ]
  },
  {
   "cell_type": "code",
   "execution_count": 10,
   "id": "otherwise-lemon",
   "metadata": {},
   "outputs": [],
   "source": [
    "train.to_csv('../data/train.csv', index=False)\n",
    "test.to_csv('../data/test.csv', index=False)"
   ]
  }
 ],
 "metadata": {
  "kernelspec": {
   "display_name": "Python 3",
   "language": "python",
   "name": "python3"
  },
  "language_info": {
   "codemirror_mode": {
    "name": "ipython",
    "version": 3
   },
   "file_extension": ".py",
   "mimetype": "text/x-python",
   "name": "python",
   "nbconvert_exporter": "python",
   "pygments_lexer": "ipython3",
   "version": "3.8.5"
  }
 },
 "nbformat": 4,
 "nbformat_minor": 5
}
