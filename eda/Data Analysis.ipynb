{
 "cells": [
  {
   "cell_type": "code",
   "execution_count": 23,
   "id": "indirect-favorite",
   "metadata": {},
   "outputs": [],
   "source": [
    "import pandas as pd\n",
    "import numpy as np"
   ]
  },
  {
   "cell_type": "code",
   "execution_count": 18,
   "id": "economic-suicide",
   "metadata": {},
   "outputs": [],
   "source": [
    "df_train = pd.read_csv('../data/schalentiere_training.csv')\n",
    "df_test = pd.read_csv('../data/schalentiere_test.csv')\n",
    "data = pd.concat([df_train, df_test], ignore_index=True)\n",
    "\n",
    "y_train = df_train['alter']\n",
    "y_test = df_test['alter']\n",
    "\n",
    "df_train.drop('alter', inplace=True, axis=1)\n",
    "df_test.drop('alter', inplace=True, axis=1)\n",
    "\n",
    "X_train = df_train\n",
    "X_test = df_test"
   ]
  },
  {
   "cell_type": "code",
   "execution_count": 19,
   "id": "violent-large",
   "metadata": {},
   "outputs": [
    {
     "name": "stdout",
     "output_type": "stream",
     "text": [
      "(3341, 8)\n",
      "(836, 8)\n"
     ]
    }
   ],
   "source": [
    "print(df_train.shape)\n",
    "print(df_test.shape)\n",
    "#looks like a 80:20 split "
   ]
  },
  {
   "cell_type": "code",
   "execution_count": 20,
   "id": "photographic-tolerance",
   "metadata": {},
   "outputs": [
    {
     "name": "stdout",
     "output_type": "stream",
     "text": [
      "<class 'pandas.core.frame.DataFrame'>\n",
      "RangeIndex: 4177 entries, 0 to 4176\n",
      "Data columns (total 9 columns):\n",
      " #   Column         Non-Null Count  Dtype  \n",
      "---  ------         --------------  -----  \n",
      " 0   geschlecht     4177 non-null   object \n",
      " 1   laenge         4177 non-null   float64\n",
      " 2   durchmesser    4177 non-null   float64\n",
      " 3   hoehe          4177 non-null   float64\n",
      " 4   gewicht_total  4177 non-null   float64\n",
      " 5   gewicht_A      4177 non-null   float64\n",
      " 6   gewicht_B      4177 non-null   float64\n",
      " 7   gewicht_C      4177 non-null   float64\n",
      " 8   alter          4177 non-null   int64  \n",
      "dtypes: float64(7), int64(1), object(1)\n",
      "memory usage: 293.8+ KB\n"
     ]
    }
   ],
   "source": [
    "data.info()"
   ]
  },
  {
   "cell_type": "code",
   "execution_count": 44,
   "id": "guided-communist",
   "metadata": {},
   "outputs": [
    {
     "data": {
      "text/html": [
       "<div>\n",
       "<style scoped>\n",
       "    .dataframe tbody tr th:only-of-type {\n",
       "        vertical-align: middle;\n",
       "    }\n",
       "\n",
       "    .dataframe tbody tr th {\n",
       "        vertical-align: top;\n",
       "    }\n",
       "\n",
       "    .dataframe thead th {\n",
       "        text-align: right;\n",
       "    }\n",
       "</style>\n",
       "<table border=\"1\" class=\"dataframe\">\n",
       "  <thead>\n",
       "    <tr style=\"text-align: right;\">\n",
       "      <th></th>\n",
       "      <th>geschlecht</th>\n",
       "      <th>laenge</th>\n",
       "      <th>durchmesser</th>\n",
       "      <th>hoehe</th>\n",
       "      <th>gewicht_total</th>\n",
       "      <th>gewicht_A</th>\n",
       "      <th>gewicht_B</th>\n",
       "      <th>gewicht_C</th>\n",
       "      <th>alter</th>\n",
       "    </tr>\n",
       "  </thead>\n",
       "  <tbody>\n",
       "    <tr>\n",
       "      <th>0</th>\n",
       "      <td>K</td>\n",
       "      <td>0.550</td>\n",
       "      <td>0.435</td>\n",
       "      <td>0.125</td>\n",
       "      <td>0.7410</td>\n",
       "      <td>0.3480</td>\n",
       "      <td>0.1585</td>\n",
       "      <td>0.2060</td>\n",
       "      <td>9</td>\n",
       "    </tr>\n",
       "    <tr>\n",
       "      <th>1</th>\n",
       "      <td>W</td>\n",
       "      <td>0.460</td>\n",
       "      <td>0.330</td>\n",
       "      <td>0.150</td>\n",
       "      <td>0.5325</td>\n",
       "      <td>0.2085</td>\n",
       "      <td>0.1805</td>\n",
       "      <td>0.1250</td>\n",
       "      <td>10</td>\n",
       "    </tr>\n",
       "    <tr>\n",
       "      <th>2</th>\n",
       "      <td>K</td>\n",
       "      <td>0.420</td>\n",
       "      <td>0.310</td>\n",
       "      <td>0.095</td>\n",
       "      <td>0.2790</td>\n",
       "      <td>0.1255</td>\n",
       "      <td>0.0510</td>\n",
       "      <td>0.0880</td>\n",
       "      <td>6</td>\n",
       "    </tr>\n",
       "    <tr>\n",
       "      <th>3</th>\n",
       "      <td>M</td>\n",
       "      <td>0.510</td>\n",
       "      <td>0.405</td>\n",
       "      <td>0.125</td>\n",
       "      <td>0.6925</td>\n",
       "      <td>0.3270</td>\n",
       "      <td>0.1550</td>\n",
       "      <td>0.1805</td>\n",
       "      <td>7</td>\n",
       "    </tr>\n",
       "    <tr>\n",
       "      <th>4</th>\n",
       "      <td>W</td>\n",
       "      <td>0.615</td>\n",
       "      <td>0.475</td>\n",
       "      <td>0.170</td>\n",
       "      <td>1.1025</td>\n",
       "      <td>0.4695</td>\n",
       "      <td>0.2355</td>\n",
       "      <td>0.3450</td>\n",
       "      <td>14</td>\n",
       "    </tr>\n",
       "  </tbody>\n",
       "</table>\n",
       "</div>"
      ],
      "text/plain": [
       "  geschlecht  laenge  durchmesser  hoehe  gewicht_total  gewicht_A  gewicht_B  \\\n",
       "0          K   0.550        0.435  0.125         0.7410     0.3480     0.1585   \n",
       "1          W   0.460        0.330  0.150         0.5325     0.2085     0.1805   \n",
       "2          K   0.420        0.310  0.095         0.2790     0.1255     0.0510   \n",
       "3          M   0.510        0.405  0.125         0.6925     0.3270     0.1550   \n",
       "4          W   0.615        0.475  0.170         1.1025     0.4695     0.2355   \n",
       "\n",
       "   gewicht_C  alter  \n",
       "0     0.2060      9  \n",
       "1     0.1250     10  \n",
       "2     0.0880      6  \n",
       "3     0.1805      7  \n",
       "4     0.3450     14  "
      ]
     },
     "execution_count": 44,
     "metadata": {},
     "output_type": "execute_result"
    }
   ],
   "source": [
    "data.head()"
   ]
  },
  {
   "cell_type": "code",
   "execution_count": 47,
   "id": "numeric-jefferson",
   "metadata": {},
   "outputs": [
    {
     "name": "stdout",
     "output_type": "stream",
     "text": [
      "geschlecht       0\n",
      "laenge           0\n",
      "durchmesser      0\n",
      "hoehe            0\n",
      "gewicht_total    0\n",
      "gewicht_A        0\n",
      "gewicht_B        0\n",
      "gewicht_C        0\n",
      "alter            0\n",
      "dtype: int64\n"
     ]
    }
   ],
   "source": [
    "# null value analysis\n",
    "amount_NaNs = data.isna().sum()\n",
    "print(amount_NaNs)"
   ]
  },
  {
   "cell_type": "code",
   "execution_count": 48,
   "id": "antique-young",
   "metadata": {},
   "outputs": [
    {
     "name": "stdout",
     "output_type": "stream",
     "text": [
      "['K' 'W' 'M']\n"
     ]
    }
   ],
   "source": [
    "# uniques in object variable\n",
    "print(data['geschlecht'].unique())"
   ]
  },
  {
   "cell_type": "code",
   "execution_count": 41,
   "id": "nearby-chocolate",
   "metadata": {},
   "outputs": [
    {
     "name": "stdout",
     "output_type": "stream",
     "text": [
      "min: 1\n",
      "median: 9.0\n",
      "mean: 9.933684462532918\n",
      "max: 29\n",
      "classes: 28\n"
     ]
    },
    {
     "data": {
      "image/png": "[encoded data removed]",
      "text/plain": [
       "<Figure size 432x288 with 1 Axes>"
      ]
     },
     "metadata": {
      "needs_background": "light"
     },
     "output_type": "display_data"
    }
   ],
   "source": [
    "# Distribution of target label\n",
    "age = data['alter']\n",
    "print(f'min:', np.min(age))\n",
    "print(f'median:', np.median(age))\n",
    "print(f'mean:', np.mean(age))\n",
    "print(f'max:', np.max(age))\n",
    "print(f'classes:', age.nunique())\n",
    "\n",
    "hist = age.hist()"
   ]
  },
  {
   "cell_type": "code",
   "execution_count": 51,
   "id": "aggregate-craps",
   "metadata": {},
   "outputs": [
    {
     "name": "stdout",
     "output_type": "stream",
     "text": [
      "[1, 2, 3, 4, 5, 6, 7, 8, 9, 10, 11, 12, 13, 14, 15, 16, 17, 18, 19, 20, 21, 22, 23, 24, 25, 26, 27, 29]\n"
     ]
    }
   ],
   "source": [
    "print(sorted(age.unique()))\n",
    "# age 28 missing"
   ]
  },
  {
   "cell_type": "code",
   "execution_count": 53,
   "id": "statewide-horizontal",
   "metadata": {},
   "outputs": [],
   "source": [
    "data.to_csv('../data/data.csv', index=False)"
   ]
  }
 ],
 "metadata": {
  "kernelspec": {
   "display_name": "Python 3",
   "language": "python",
   "name": "python3"
  },
  "language_info": {
   "codemirror_mode": {
    "name": "ipython",
    "version": 3
   },
   "file_extension": ".py",
   "mimetype": "text/x-python",
   "name": "python",
   "nbconvert_exporter": "python",
   "pygments_lexer": "ipython3",
   "version": "3.8.5"
  }
 },
 "nbformat": 4,
 "nbformat_minor": 5
}
